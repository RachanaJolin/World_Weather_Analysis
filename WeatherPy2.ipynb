{
 "cells": [
  {
   "cell_type": "code",
   "execution_count": 71,
   "metadata": {},
   "outputs": [],
   "source": [
    "# Import the random module.\n",
    "import random \n",
    "# Import the NumPy module.\n",
    "import numpy as np\n",
    "# Import timeit.\n",
    "import timeit"
   ]
  },
  {
   "cell_type": "code",
   "execution_count": 72,
   "metadata": {},
   "outputs": [
    {
     "name": "stdout",
     "output_type": "stream",
     "text": [
      "11.3 µs ± 125 ns per loop (mean ± std. dev. of 7 runs, 100000 loops each)\n"
     ]
    }
   ],
   "source": [
    "%timeit np.random.uniform(-90.000, 90.000, size=1500)"
   ]
  },
  {
   "cell_type": "code",
   "execution_count": 73,
   "metadata": {},
   "outputs": [
    {
     "name": "stdout",
     "output_type": "stream",
     "text": [
      "1.59 ms ± 33.3 µs per loop (mean ± std. dev. of 7 runs, 1000 loops each)\n"
     ]
    }
   ],
   "source": [
    "def latitudes(x):\n",
    "    latitudes = []\n",
    "    while x < 1501:\n",
    "        random_lat = random.randint(-90, 90) + random.random()\n",
    "        latitudes.append(random_lat)\n",
    "        x += 1\n",
    "    return latitudes\n",
    "# Call the function with x = 1.\n",
    "%timeit latitudes(1)"
   ]
  },
  {
   "cell_type": "code",
   "execution_count": 74,
   "metadata": {},
   "outputs": [],
   "source": [
    "# Import the dependencies.\n",
    "import pandas as pd\n",
    "import matplotlib.pyplot as plt\n",
    "import numpy as np"
   ]
  },
  {
   "cell_type": "code",
   "execution_count": 75,
   "metadata": {},
   "outputs": [
    {
     "data": {
      "text/plain": [
       "<zip at 0x26cab13ddc8>"
      ]
     },
     "execution_count": 75,
     "metadata": {},
     "output_type": "execute_result"
    }
   ],
   "source": [
    "# Create a set of random latitude and longitude combinations.\n",
    "lats = np.random.uniform(low=-90.000, high=90.000, size=1500)\n",
    "lngs = np.random.uniform(low=-180.000, high=180.000, size=1500)\n",
    "lat_lngs = zip(lats, lngs)\n",
    "lat_lngs "
   ]
  },
  {
   "cell_type": "code",
   "execution_count": 76,
   "metadata": {},
   "outputs": [],
   "source": [
    "# Create a practice set of random latitude and longitude combinations.\n",
    "x = [25.12903645, 25.92017388, 26.62509167, -59.98969384, 37.30571269]\n",
    "y = [-67.59741259, 11.09532135, 74.84233102, -76.89176677, -61.13376282]\n",
    "coordinates = zip(x, y)"
   ]
  },
  {
   "cell_type": "code",
   "execution_count": 77,
   "metadata": {},
   "outputs": [
    {
     "name": "stdout",
     "output_type": "stream",
     "text": [
      "25.12903645 -67.59741259\n",
      "25.92017388 11.09532135\n",
      "26.62509167 74.84233102\n",
      "-59.98969384 -76.89176677\n",
      "37.30571269 -61.13376282\n"
     ]
    }
   ],
   "source": [
    "# Use the tuple() function to display the latitude and longitude combinations.\n",
    "for coordinate in coordinates:\n",
    "    print(coordinate[0], coordinate[1])"
   ]
  },
  {
   "cell_type": "code",
   "execution_count": 78,
   "metadata": {},
   "outputs": [],
   "source": [
    "# Use the citipy module to determine city based on latitude and longitude.\n",
    "from citipy import citipy"
   ]
  },
  {
   "cell_type": "code",
   "execution_count": 79,
   "metadata": {},
   "outputs": [],
   "source": [
    "# Use the tuple() function to display the latitude and longitude combinations.\n",
    "for coordinate in coordinates:\n",
    "    print(citipy.nearest_city(coordinate[0], coordinate[1]).city_name,\n",
    "          citipy.nearest_city(coordinate[0], coordinate[1]).country_code)"
   ]
  },
  {
   "cell_type": "code",
   "execution_count": 80,
   "metadata": {},
   "outputs": [
    {
     "data": {
      "text/plain": [
       "623"
      ]
     },
     "execution_count": 80,
     "metadata": {},
     "output_type": "execute_result"
    }
   ],
   "source": [
    "# Create a list for holding the cities.\n",
    "cities = []\n",
    "# Identify the nearest city for each latitude and longitude combination.\n",
    "for lat_lng in lat_lngs:\n",
    "    city = citipy.nearest_city(lat_lng[0], lat_lng[1]).city_name\n",
    "\n",
    "    # If the city is unique, then we will add it to the cities list.\n",
    "    if city not in cities:\n",
    "        cities.append(city)\n",
    "# Print the city count to confirm sufficient count.\n",
    "len(cities)"
   ]
  },
  {
   "cell_type": "code",
   "execution_count": 81,
   "metadata": {},
   "outputs": [],
   "source": [
    "# Import the requests library.\n",
    "import requests\n",
    "\n",
    "# Import the API key.\n",
    "from config import weather_api_key"
   ]
  },
  {
   "cell_type": "code",
   "execution_count": 82,
   "metadata": {},
   "outputs": [
    {
     "name": "stdout",
     "output_type": "stream",
     "text": [
      "http://api.openweathermap.org/data/2.5/weather?units=Imperial&APPID=2542cf2578abf24fac37456405279597\n"
     ]
    }
   ],
   "source": [
    "# Starting URL for Weather Map API Call.\n",
    "url = \"http://api.openweathermap.org/data/2.5/weather?units=Imperial&APPID=\" + weather_api_key\n",
    "print(url)"
   ]
  },
  {
   "cell_type": "code",
   "execution_count": 83,
   "metadata": {},
   "outputs": [
    {
     "name": "stdout",
     "output_type": "stream",
     "text": [
      "http://api.openweathermap.org/data/2.5/weather?units=Imperial&APPID=2542cf2578abf24fac37456405279597&q=Boston\n"
     ]
    }
   ],
   "source": [
    "# Create an endpoint URL for a city.\n",
    "city_url = url + \"&q=\" + \"Boston\"\n",
    "print(city_url)"
   ]
  },
  {
   "cell_type": "code",
   "execution_count": 84,
   "metadata": {},
   "outputs": [
    {
     "data": {
      "text/plain": [
       "<Response [200]>"
      ]
     },
     "execution_count": 84,
     "metadata": {},
     "output_type": "execute_result"
    }
   ],
   "source": [
    "# Make a 'Get' request for the city weather.\n",
    "city_weather = requests.get(city_url)\n",
    "city_weather"
   ]
  },
  {
   "cell_type": "code",
   "execution_count": 85,
   "metadata": {},
   "outputs": [
    {
     "data": {
      "text/plain": [
       "<Response [404]>"
      ]
     },
     "execution_count": 85,
     "metadata": {},
     "output_type": "execute_result"
    }
   ],
   "source": [
    "# Create an endpoint URL for a city.\n",
    "city_url = url + \"&q=\" + \"Bston\"\n",
    "city_weather = requests.get(city_url)\n",
    "city_weather"
   ]
  },
  {
   "cell_type": "code",
   "execution_count": 86,
   "metadata": {},
   "outputs": [
    {
     "data": {
      "text/plain": [
       "<Response [200]>"
      ]
     },
     "execution_count": 86,
     "metadata": {},
     "output_type": "execute_result"
    }
   ],
   "source": [
    "# Create an endpoint URL for a city.\n",
    "city_url = url + \"&q=\" + \"Boston\"\n",
    "city_weather = requests.get(city_url)\n",
    "city_weather"
   ]
  },
  {
   "cell_type": "code",
   "execution_count": 87,
   "metadata": {},
   "outputs": [
    {
     "data": {
      "text/plain": [
       "'{\"coord\":{\"lon\":-71.06,\"lat\":42.36},\"weather\":[{\"id\":803,\"main\":\"Clouds\",\"description\":\"broken clouds\",\"icon\":\"04n\"}],\"base\":\"stations\",\"main\":{\"temp\":41.23,\"pressure\":1015,\"humidity\":60,\"temp_min\":36,\"temp_max\":46.4},\"wind\":{\"speed\":11.41,\"deg\":230},\"clouds\":{\"all\":62},\"dt\":1573431548,\"sys\":{\"type\":1,\"id\":4967,\"country\":\"US\",\"sunrise\":1573385312,\"sunset\":1573421271},\"timezone\":-18000,\"id\":4930956,\"name\":\"Boston\",\"cod\":200}'"
      ]
     },
     "execution_count": 87,
     "metadata": {},
     "output_type": "execute_result"
    }
   ],
   "source": [
    "# Get the text of the 'Get' request.\n",
    "city_weather.text"
   ]
  },
  {
   "cell_type": "code",
   "execution_count": 88,
   "metadata": {},
   "outputs": [
    {
     "data": {
      "text/plain": [
       "{'coord': {'lon': -71.06, 'lat': 42.36},\n",
       " 'weather': [{'id': 803,\n",
       "   'main': 'Clouds',\n",
       "   'description': 'broken clouds',\n",
       "   'icon': '04n'}],\n",
       " 'base': 'stations',\n",
       " 'main': {'temp': 41.23,\n",
       "  'pressure': 1015,\n",
       "  'humidity': 60,\n",
       "  'temp_min': 36,\n",
       "  'temp_max': 46.4},\n",
       " 'wind': {'speed': 11.41, 'deg': 230},\n",
       " 'clouds': {'all': 62},\n",
       " 'dt': 1573431548,\n",
       " 'sys': {'type': 1,\n",
       "  'id': 4967,\n",
       "  'country': 'US',\n",
       "  'sunrise': 1573385312,\n",
       "  'sunset': 1573421271},\n",
       " 'timezone': -18000,\n",
       " 'id': 4930956,\n",
       " 'name': 'Boston',\n",
       " 'cod': 200}"
      ]
     },
     "execution_count": 88,
     "metadata": {},
     "output_type": "execute_result"
    }
   ],
   "source": [
    "# Get the JSON text of the 'Get' request.\n",
    "city_weather.json()"
   ]
  },
  {
   "cell_type": "code",
   "execution_count": 89,
   "metadata": {},
   "outputs": [
    {
     "name": "stdout",
     "output_type": "stream",
     "text": [
      "City Weather found.\n"
     ]
    }
   ],
   "source": [
    "# Create an endpoint URL for a city.\n",
    "city_url = url + \"&q=\" + \"Boston\"\n",
    "city_weather = requests.get(city_url)\n",
    "if city_weather.status_code == 200:\n",
    "    print(f\"City Weather found.\")\n",
    "else:\n",
    "    print(f\"City weather not found.\")"
   ]
  },
  {
   "cell_type": "code",
   "execution_count": 90,
   "metadata": {},
   "outputs": [],
   "source": [
    "# Get the JSON data.\n",
    "boston_data = city_weather.json()"
   ]
  },
  {
   "cell_type": "code",
   "execution_count": 91,
   "metadata": {},
   "outputs": [
    {
     "name": "stdout",
     "output_type": "stream",
     "text": [
      "42.36 -71.06 46.4 60 62 11.41\n"
     ]
    }
   ],
   "source": [
    "lat = boston_data[\"coord\"][\"lat\"]\n",
    "lng = boston_data[\"coord\"][\"lon\"]\n",
    "max_temp = boston_data[\"main\"][\"temp_max\"]\n",
    "humidity = boston_data[\"main\"][\"humidity\"]\n",
    "clouds = boston_data[\"clouds\"][\"all\"]\n",
    "wind = boston_data[\"wind\"][\"speed\"]\n",
    "print(lat, lng, max_temp, humidity, clouds, wind)"
   ]
  },
  {
   "cell_type": "code",
   "execution_count": 92,
   "metadata": {},
   "outputs": [
    {
     "data": {
      "text/plain": [
       "'2019-11-11 00:19:08'"
      ]
     },
     "execution_count": 92,
     "metadata": {},
     "output_type": "execute_result"
    }
   ],
   "source": [
    "# Import the datetime module from the datetime library.\n",
    "from datetime import datetime\n",
    "# Get the date from the JSON file.\n",
    "date = boston_data[\"dt\"]\n",
    "# Convert the UTC date to a date format with year, month, day, hours, minutes, and seconds.\n",
    "datetime.utcfromtimestamp(date).strftime('%Y-%m-%d %H:%M:%S')"
   ]
  },
  {
   "cell_type": "code",
   "execution_count": 93,
   "metadata": {},
   "outputs": [],
   "source": [
    "# Import the datetime module from the datetime library.\n",
    "from datetime import datetime"
   ]
  },
  {
   "cell_type": "code",
   "execution_count": 94,
   "metadata": {},
   "outputs": [
    {
     "name": "stdout",
     "output_type": "stream",
     "text": [
      "Beginning Data Retrieval     \n",
      "-----------------------------\n"
     ]
    }
   ],
   "source": [
    "# Create an empty list to hold the weather data.\n",
    "city_data = []\n",
    "# Print the beginning of the logging.\n",
    "print(\"Beginning Data Retrieval     \")\n",
    "print(\"-----------------------------\")\n",
    "\n",
    "# Create counters.\n",
    "record_count = 1\n",
    "set_count = 1"
   ]
  },
  {
   "cell_type": "code",
   "execution_count": 95,
   "metadata": {},
   "outputs": [],
   "source": [
    "# Loop through all the cities in our list.\n",
    "for i in range(len(cities)):\n",
    "\n",
    "    # Group cities in sets of 50 for logging purposes.\n",
    "    if (i % 50 == 0 and i >= 50):\n",
    "        set_count += 1\n",
    "        record_count = 1\n",
    "    # Create endpoint URL with each city.\n",
    "    city_url = url + \"&q=\" + \"i\""
   ]
  },
  {
   "cell_type": "code",
   "execution_count": 96,
   "metadata": {},
   "outputs": [
    {
     "name": "stdout",
     "output_type": "stream",
     "text": [
      "Processing Record 1 of Set 13 | lebu\n",
      "Processing Record 2 of Set 13 | vigrestad\n",
      "Processing Record 3 of Set 13 | hofn\n",
      "Processing Record 4 of Set 13 | sa kaeo\n",
      "Processing Record 5 of Set 13 | talara\n",
      "Processing Record 6 of Set 13 | inongo\n",
      "Processing Record 7 of Set 13 | kapaa\n",
      "Processing Record 8 of Set 13 | san patricio\n",
      "Processing Record 9 of Set 13 | jamestown\n",
      "Processing Record 10 of Set 13 | meulaboh\n",
      "Processing Record 11 of Set 13 | hilo\n",
      "Processing Record 12 of Set 13 | doctor pedro p. pena\n",
      "City not found. Skipping...\n",
      "Processing Record 13 of Set 13 | port elizabeth\n",
      "Processing Record 14 of Set 13 | albany\n",
      "Processing Record 15 of Set 13 | carnarvon\n",
      "Processing Record 16 of Set 13 | coihueco\n",
      "Processing Record 17 of Set 13 | belushya guba\n",
      "City not found. Skipping...\n",
      "Processing Record 18 of Set 13 | saint george\n",
      "Processing Record 19 of Set 13 | malabor\n",
      "Processing Record 20 of Set 13 | taolanaro\n",
      "City not found. Skipping...\n",
      "Processing Record 21 of Set 13 | zirgan\n",
      "Processing Record 22 of Set 13 | wanning\n",
      "Processing Record 23 of Set 13 | barbar\n",
      "City not found. Skipping...\n",
      "Processing Record 24 of Set 13 | ushtobe\n",
      "Processing Record 25 of Set 13 | ostrovnoy\n",
      "Processing Record 26 of Set 13 | ushuaia\n",
      "Processing Record 27 of Set 13 | fort nelson\n",
      "Processing Record 28 of Set 13 | les cayes\n",
      "Processing Record 29 of Set 13 | cidreira\n",
      "Processing Record 30 of Set 13 | port blair\n",
      "Processing Record 31 of Set 13 | hithadhoo\n",
      "Processing Record 32 of Set 13 | tupelo\n",
      "Processing Record 33 of Set 13 | chokurdakh\n",
      "Processing Record 34 of Set 13 | punta arenas\n",
      "Processing Record 35 of Set 13 | majene\n",
      "Processing Record 36 of Set 13 | kaitangata\n",
      "Processing Record 37 of Set 13 | pilar\n",
      "Processing Record 38 of Set 13 | radovitskiy\n",
      "Processing Record 39 of Set 13 | east london\n",
      "Processing Record 40 of Set 13 | asau\n",
      "City not found. Skipping...\n",
      "Processing Record 41 of Set 13 | cape town\n",
      "Processing Record 42 of Set 13 | grindavik\n",
      "Processing Record 43 of Set 13 | butaritari\n",
      "Processing Record 44 of Set 13 | hobart\n",
      "Processing Record 45 of Set 13 | khatanga\n",
      "Processing Record 46 of Set 13 | hasaki\n",
      "Processing Record 47 of Set 13 | barabai\n",
      "Processing Record 48 of Set 13 | harper\n",
      "Processing Record 49 of Set 13 | novikovo\n",
      "Processing Record 50 of Set 13 | qaanaaq\n",
      "Processing Record 1 of Set 14 | mataura\n",
      "Processing Record 2 of Set 14 | ahipara\n",
      "Processing Record 3 of Set 14 | carutapera\n",
      "Processing Record 4 of Set 14 | nanortalik\n",
      "Processing Record 5 of Set 14 | solenzo\n",
      "Processing Record 6 of Set 14 | maple creek\n",
      "Processing Record 7 of Set 14 | pangnirtung\n",
      "Processing Record 8 of Set 14 | sinalunga\n",
      "Processing Record 9 of Set 14 | pevek\n",
      "Processing Record 10 of Set 14 | upernavik\n",
      "Processing Record 11 of Set 14 | severo-kurilsk\n",
      "Processing Record 12 of Set 14 | nikolskoye\n",
      "Processing Record 13 of Set 14 | vaini\n",
      "Processing Record 14 of Set 14 | elizabeth city\n",
      "Processing Record 15 of Set 14 | aleksandrovsk-sakhalinskiy\n",
      "Processing Record 16 of Set 14 | ishinomaki\n",
      "Processing Record 17 of Set 14 | amderma\n",
      "City not found. Skipping...\n",
      "Processing Record 18 of Set 14 | katsuura\n",
      "Processing Record 19 of Set 14 | dikson\n",
      "Processing Record 20 of Set 14 | ozgon\n",
      "City not found. Skipping...\n",
      "Processing Record 21 of Set 14 | port alfred\n",
      "Processing Record 22 of Set 14 | chapais\n",
      "Processing Record 23 of Set 14 | busselton\n",
      "Processing Record 24 of Set 14 | matay\n",
      "Processing Record 25 of Set 14 | tuktoyaktuk\n",
      "Processing Record 26 of Set 14 | caravelas\n",
      "Processing Record 27 of Set 14 | wajima\n",
      "Processing Record 28 of Set 14 | rio gallegos\n",
      "Processing Record 29 of Set 14 | praia da vitoria\n",
      "Processing Record 30 of Set 14 | mar del plata\n",
      "Processing Record 31 of Set 14 | puerto ayora\n",
      "Processing Record 32 of Set 14 | kedougou\n",
      "Processing Record 33 of Set 14 | payson\n",
      "Processing Record 34 of Set 14 | gold coast\n",
      "Processing Record 35 of Set 14 | mys shmidta\n",
      "City not found. Skipping...\n",
      "Processing Record 36 of Set 14 | sorong\n",
      "Processing Record 37 of Set 14 | tuatapere\n",
      "Processing Record 38 of Set 14 | bathsheba\n",
      "Processing Record 39 of Set 14 | bereslavka\n",
      "Processing Record 40 of Set 14 | fairbanks\n",
      "Processing Record 41 of Set 14 | petropavlovsk-kamchatskiy\n",
      "Processing Record 42 of Set 14 | labuhan\n",
      "Processing Record 43 of Set 14 | tsihombe\n",
      "City not found. Skipping...\n",
      "Processing Record 44 of Set 14 | toliary\n",
      "City not found. Skipping...\n",
      "Processing Record 45 of Set 14 | bengkulu\n",
      "City not found. Skipping...\n",
      "Processing Record 46 of Set 14 | ribeira grande\n",
      "Processing Record 47 of Set 14 | crib point\n",
      "Processing Record 48 of Set 14 | hermanus\n",
      "Processing Record 49 of Set 14 | shingu\n",
      "Processing Record 50 of Set 14 | mombetsu\n",
      "Processing Record 1 of Set 15 | barrow\n",
      "Processing Record 2 of Set 15 | faya\n",
      "Processing Record 3 of Set 15 | kodiak\n",
      "Processing Record 4 of Set 15 | rikitea\n",
      "Processing Record 5 of Set 15 | grand river south east\n",
      "City not found. Skipping...\n",
      "Processing Record 6 of Set 15 | new norfolk\n",
      "Processing Record 7 of Set 15 | saleaula\n",
      "City not found. Skipping...\n",
      "Processing Record 8 of Set 15 | kayerkan\n",
      "Processing Record 9 of Set 15 | luderitz\n",
      "Processing Record 10 of Set 15 | llanes\n",
      "Processing Record 11 of Set 15 | mouzakion\n",
      "City not found. Skipping...\n",
      "Processing Record 12 of Set 15 | nelson bay\n",
      "Processing Record 13 of Set 15 | vardo\n",
      "Processing Record 14 of Set 15 | torbay\n",
      "Processing Record 15 of Set 15 | plainview\n",
      "Processing Record 16 of Set 15 | saint-augustin\n",
      "Processing Record 17 of Set 15 | portland\n",
      "Processing Record 18 of Set 15 | isangel\n",
      "Processing Record 19 of Set 15 | aksarka\n",
      "Processing Record 20 of Set 15 | narsaq\n",
      "Processing Record 21 of Set 15 | sao gabriel da cachoeira\n",
      "Processing Record 22 of Set 15 | aksu\n",
      "Processing Record 23 of Set 15 | namwala\n",
      "Processing Record 24 of Set 15 | castro\n",
      "Processing Record 25 of Set 15 | anito\n",
      "Processing Record 26 of Set 15 | guerrero negro\n",
      "Processing Record 27 of Set 15 | buraydah\n",
      "Processing Record 28 of Set 15 | odweyne\n",
      "City not found. Skipping...\n",
      "Processing Record 29 of Set 15 | nangong\n",
      "Processing Record 30 of Set 15 | thompson\n",
      "Processing Record 31 of Set 15 | padang\n",
      "Processing Record 32 of Set 15 | aklavik\n",
      "Processing Record 33 of Set 15 | dosso\n",
      "Processing Record 34 of Set 15 | saint-pierre\n",
      "Processing Record 35 of Set 15 | izumo\n",
      "Processing Record 36 of Set 15 | olecko\n",
      "Processing Record 37 of Set 15 | bluff\n",
      "Processing Record 38 of Set 15 | cockburn harbour\n",
      "City not found. Skipping...\n",
      "Processing Record 39 of Set 15 | yenagoa\n",
      "Processing Record 40 of Set 15 | lorengau\n",
      "Processing Record 41 of Set 15 | sola\n",
      "Processing Record 42 of Set 15 | deputatskiy\n",
      "Processing Record 43 of Set 15 | atuona\n",
      "Processing Record 44 of Set 15 | ponta do sol\n",
      "Processing Record 45 of Set 15 | karratha\n",
      "Processing Record 46 of Set 15 | benguela\n",
      "Processing Record 47 of Set 15 | montijo\n",
      "Processing Record 48 of Set 15 | byron bay\n",
      "Processing Record 49 of Set 15 | port hardy\n",
      "Processing Record 50 of Set 15 | klaksvik\n",
      "Processing Record 1 of Set 16 | palabuhanratu\n",
      "City not found. Skipping...\n",
      "Processing Record 2 of Set 16 | airai\n",
      "Processing Record 3 of Set 16 | bambous virieux\n",
      "Processing Record 4 of Set 16 | arlit\n",
      "Processing Record 5 of Set 16 | geelong\n",
      "Processing Record 6 of Set 16 | aranos\n",
      "Processing Record 7 of Set 16 | awjilah\n",
      "Processing Record 8 of Set 16 | vaitupu\n",
      "City not found. Skipping...\n",
      "Processing Record 9 of Set 16 | tilichiki\n",
      "Processing Record 10 of Set 16 | matadi\n",
      "Processing Record 11 of Set 16 | skibbereen\n",
      "Processing Record 12 of Set 16 | naantali\n",
      "Processing Record 13 of Set 16 | victoria\n",
      "Processing Record 14 of Set 16 | pisco\n",
      "Processing Record 15 of Set 16 | ituporanga\n",
      "Processing Record 16 of Set 16 | bridlington\n",
      "Processing Record 17 of Set 16 | dalbandin\n",
      "Processing Record 18 of Set 16 | zadonsk\n",
      "Processing Record 19 of Set 16 | suntar\n",
      "Processing Record 20 of Set 16 | arrecife\n",
      "City not found. Skipping...\n",
      "Processing Record 21 of Set 16 | sawakin\n",
      "Processing Record 22 of Set 16 | road town\n",
      "Processing Record 23 of Set 16 | aktash\n",
      "City not found. Skipping...\n",
      "Processing Record 24 of Set 16 | barawe\n",
      "City not found. Skipping...\n",
      "Processing Record 25 of Set 16 | haines junction\n",
      "Processing Record 26 of Set 16 | quibor\n",
      "Processing Record 27 of Set 16 | martapura\n",
      "Processing Record 28 of Set 16 | belyy yar\n",
      "Processing Record 29 of Set 16 | normandin\n",
      "Processing Record 30 of Set 16 | colares\n",
      "Processing Record 31 of Set 16 | gornopravdinsk\n"
     ]
    },
    {
     "name": "stdout",
     "output_type": "stream",
     "text": [
      "Processing Record 32 of Set 16 | aguimes\n",
      "Processing Record 33 of Set 16 | opunake\n",
      "Processing Record 34 of Set 16 | georgetown\n",
      "Processing Record 35 of Set 16 | ancud\n",
      "Processing Record 36 of Set 16 | polunochnoye\n",
      "Processing Record 37 of Set 16 | pizarro\n",
      "Processing Record 38 of Set 16 | gympie\n",
      "Processing Record 39 of Set 16 | lahaina\n",
      "Processing Record 40 of Set 16 | dipkarpaz\n",
      "City not found. Skipping...\n",
      "Processing Record 41 of Set 16 | nizhneyansk\n",
      "City not found. Skipping...\n",
      "Processing Record 42 of Set 16 | takoradi\n",
      "Processing Record 43 of Set 16 | lavrentiya\n",
      "Processing Record 44 of Set 16 | talnakh\n",
      "Processing Record 45 of Set 16 | avarua\n",
      "Processing Record 46 of Set 16 | trincomalee\n",
      "Processing Record 47 of Set 16 | guarapari\n",
      "Processing Record 48 of Set 16 | alofi\n",
      "Processing Record 49 of Set 16 | saint-philippe\n",
      "Processing Record 50 of Set 16 | maxixe\n",
      "Processing Record 1 of Set 17 | rantauprapat\n",
      "Processing Record 2 of Set 17 | saskylakh\n",
      "Processing Record 3 of Set 17 | touros\n",
      "Processing Record 4 of Set 17 | blairmore\n",
      "Processing Record 5 of Set 17 | pendleton\n",
      "Processing Record 6 of Set 17 | beloha\n",
      "Processing Record 7 of Set 17 | daura\n",
      "Processing Record 8 of Set 17 | illoqqortoormiut\n",
      "City not found. Skipping...\n",
      "Processing Record 9 of Set 17 | bethel\n",
      "Processing Record 10 of Set 17 | yar-sale\n",
      "Processing Record 11 of Set 17 | rodrigues alves\n",
      "Processing Record 12 of Set 17 | richards bay\n",
      "Processing Record 13 of Set 17 | tasiilaq\n",
      "Processing Record 14 of Set 17 | kavieng\n",
      "Processing Record 15 of Set 17 | erzin\n",
      "Processing Record 16 of Set 17 | kruisfontein\n",
      "Processing Record 17 of Set 17 | aakirkeby\n",
      "City not found. Skipping...\n",
      "Processing Record 18 of Set 17 | tumannyy\n",
      "City not found. Skipping...\n",
      "Processing Record 19 of Set 17 | marawi\n",
      "Processing Record 20 of Set 17 | promyshlennovskiy\n",
      "Processing Record 21 of Set 17 | yuksekova\n",
      "Processing Record 22 of Set 17 | stephenville\n",
      "Processing Record 23 of Set 17 | governador valadares\n",
      "Processing Record 24 of Set 17 | toora-khem\n",
      "Processing Record 25 of Set 17 | puro\n",
      "Processing Record 26 of Set 17 | cherskiy\n",
      "Processing Record 27 of Set 17 | kazalinsk\n",
      "City not found. Skipping...\n",
      "Processing Record 28 of Set 17 | okakarara\n",
      "Processing Record 29 of Set 17 | fortuna\n",
      "Processing Record 30 of Set 17 | mingyue\n",
      "Processing Record 31 of Set 17 | iqaluit\n",
      "Processing Record 32 of Set 17 | salta\n",
      "Processing Record 33 of Set 17 | saint-georges\n",
      "Processing Record 34 of Set 17 | longyearbyen\n",
      "Processing Record 35 of Set 17 | menongue\n",
      "Processing Record 36 of Set 17 | camana\n",
      "City not found. Skipping...\n",
      "Processing Record 37 of Set 17 | felidhoo\n",
      "City not found. Skipping...\n",
      "Processing Record 38 of Set 17 | port-cartier\n",
      "Processing Record 39 of Set 17 | coahuayana\n",
      "Processing Record 40 of Set 17 | paciran\n",
      "Processing Record 41 of Set 17 | nyurba\n",
      "Processing Record 42 of Set 17 | atakpame\n",
      "Processing Record 43 of Set 17 | waingapu\n",
      "Processing Record 44 of Set 17 | bilibino\n",
      "Processing Record 45 of Set 17 | maltahohe\n",
      "Processing Record 46 of Set 17 | nouadhibou\n",
      "Processing Record 47 of Set 17 | superior\n",
      "Processing Record 48 of Set 17 | annau\n",
      "Processing Record 49 of Set 17 | lalibela\n",
      "Processing Record 50 of Set 17 | foumban\n",
      "Processing Record 1 of Set 18 | maldonado\n",
      "Processing Record 2 of Set 18 | mahebourg\n",
      "Processing Record 3 of Set 18 | roma\n",
      "Processing Record 4 of Set 18 | bredasdorp\n",
      "Processing Record 5 of Set 18 | jackson\n",
      "Processing Record 6 of Set 18 | papara\n",
      "Processing Record 7 of Set 18 | tual\n",
      "Processing Record 8 of Set 18 | sentyabrskiy\n",
      "City not found. Skipping...\n",
      "Processing Record 9 of Set 18 | tuggurt\n",
      "City not found. Skipping...\n",
      "Processing Record 10 of Set 18 | samusu\n",
      "City not found. Skipping...\n",
      "Processing Record 11 of Set 18 | san carlos de bariloche\n",
      "Processing Record 12 of Set 18 | ambunti\n",
      "Processing Record 13 of Set 18 | rocha\n",
      "Processing Record 14 of Set 18 | bogorodskoye\n",
      "Processing Record 15 of Set 18 | arraial do cabo\n",
      "Processing Record 16 of Set 18 | bucerias\n",
      "Processing Record 17 of Set 18 | umm lajj\n",
      "Processing Record 18 of Set 18 | margate\n",
      "Processing Record 19 of Set 18 | mitsamiouli\n",
      "Processing Record 20 of Set 18 | shouguang\n",
      "Processing Record 21 of Set 18 | paita\n",
      "Processing Record 22 of Set 18 | urusha\n",
      "Processing Record 23 of Set 18 | jalu\n",
      "Processing Record 24 of Set 18 | port hedland\n",
      "Processing Record 25 of Set 18 | san cristobal\n",
      "Processing Record 26 of Set 18 | shiyan\n",
      "Processing Record 27 of Set 18 | vao\n",
      "Processing Record 28 of Set 18 | oranjemund\n",
      "Processing Record 29 of Set 18 | tarakan\n",
      "Processing Record 30 of Set 18 | saldanha\n",
      "Processing Record 31 of Set 18 | husavik\n",
      "Processing Record 32 of Set 18 | ambodifototra\n",
      "City not found. Skipping...\n",
      "Processing Record 33 of Set 18 | constitucion\n",
      "Processing Record 34 of Set 18 | zapolyarnyy\n",
      "Processing Record 35 of Set 18 | bela\n",
      "Processing Record 36 of Set 18 | biltine\n",
      "Processing Record 37 of Set 18 | yellowknife\n",
      "Processing Record 38 of Set 18 | berberati\n",
      "Processing Record 39 of Set 18 | hay river\n",
      "Processing Record 40 of Set 18 | laguna\n",
      "Processing Record 41 of Set 18 | sosnovo-ozerskoye\n",
      "Processing Record 42 of Set 18 | port macquarie\n",
      "Processing Record 43 of Set 18 | emba\n",
      "Processing Record 44 of Set 18 | mildura\n",
      "Processing Record 45 of Set 18 | warqla\n",
      "City not found. Skipping...\n",
      "Processing Record 46 of Set 18 | muros\n",
      "Processing Record 47 of Set 18 | anton lizardo\n",
      "Processing Record 48 of Set 18 | paamiut\n",
      "Processing Record 49 of Set 18 | ilulissat\n",
      "Processing Record 50 of Set 18 | teguise\n",
      "Processing Record 1 of Set 19 | lompoc\n",
      "Processing Record 2 of Set 19 | dunbar\n",
      "Processing Record 3 of Set 19 | santarem\n",
      "City not found. Skipping...\n",
      "Processing Record 4 of Set 19 | souillac\n",
      "Processing Record 5 of Set 19 | laguna de perlas\n",
      "Processing Record 6 of Set 19 | kingsville\n",
      "Processing Record 7 of Set 19 | mihara\n",
      "Processing Record 8 of Set 19 | natalio\n",
      "Processing Record 9 of Set 19 | burnie\n",
      "Processing Record 10 of Set 19 | lagoa\n",
      "Processing Record 11 of Set 19 | dwarka\n",
      "Processing Record 12 of Set 19 | kattivakkam\n",
      "Processing Record 13 of Set 19 | tautira\n",
      "Processing Record 14 of Set 19 | kokkola\n",
      "Processing Record 15 of Set 19 | kapuskasing\n",
      "Processing Record 16 of Set 19 | sankheda\n",
      "Processing Record 17 of Set 19 | galiwinku\n",
      "City not found. Skipping...\n",
      "Processing Record 18 of Set 19 | iquique\n",
      "Processing Record 19 of Set 19 | dunedin\n",
      "Processing Record 20 of Set 19 | tucurui\n",
      "Processing Record 21 of Set 19 | idritsa\n",
      "Processing Record 22 of Set 19 | rach gia\n",
      "Processing Record 23 of Set 19 | mathbaria\n",
      "Processing Record 24 of Set 19 | la palma\n",
      "Processing Record 25 of Set 19 | ostroleka\n",
      "Processing Record 26 of Set 19 | mama\n",
      "Processing Record 27 of Set 19 | maloy\n",
      "Processing Record 28 of Set 19 | miles city\n",
      "Processing Record 29 of Set 19 | chamba\n",
      "Processing Record 30 of Set 19 | jahrom\n",
      "City not found. Skipping...\n",
      "Processing Record 31 of Set 19 | nahrin\n",
      "Processing Record 32 of Set 19 | barra do corda\n",
      "Processing Record 33 of Set 19 | flin flon\n",
      "Processing Record 34 of Set 19 | geraldton\n",
      "Processing Record 35 of Set 19 | ouadda\n",
      "Processing Record 36 of Set 19 | cockburn town\n",
      "Processing Record 37 of Set 19 | avera\n",
      "Processing Record 38 of Set 19 | kirakira\n",
      "Processing Record 39 of Set 19 | marsh harbour\n",
      "Processing Record 40 of Set 19 | vostok\n",
      "Processing Record 41 of Set 19 | omsukchan\n",
      "Processing Record 42 of Set 19 | xique-xique\n",
      "Processing Record 43 of Set 19 | barentsburg\n",
      "City not found. Skipping...\n",
      "Processing Record 44 of Set 19 | maceio\n",
      "Processing Record 45 of Set 19 | timra\n",
      "Processing Record 46 of Set 19 | koslan\n",
      "Processing Record 47 of Set 19 | north bend\n",
      "Processing Record 48 of Set 19 | katiola\n",
      "Processing Record 49 of Set 19 | bijar\n",
      "Processing Record 50 of Set 19 | karaul\n",
      "City not found. Skipping...\n",
      "Processing Record 1 of Set 20 | tornio\n",
      "Processing Record 2 of Set 20 | pakwach\n",
      "City not found. Skipping...\n",
      "Processing Record 3 of Set 20 | savannah bight\n",
      "Processing Record 4 of Set 20 | esperance\n",
      "Processing Record 5 of Set 20 | catamarca\n",
      "City not found. Skipping...\n",
      "Processing Record 6 of Set 20 | phan rang\n",
      "City not found. Skipping...\n",
      "Processing Record 7 of Set 20 | palmer\n",
      "Processing Record 8 of Set 20 | port lincoln\n",
      "Processing Record 9 of Set 20 | batemans bay\n",
      "Processing Record 10 of Set 20 | lerwick\n",
      "Processing Record 11 of Set 20 | horodnytsya\n",
      "Processing Record 12 of Set 20 | salalah\n"
     ]
    },
    {
     "name": "stdout",
     "output_type": "stream",
     "text": [
      "Processing Record 13 of Set 20 | graham\n",
      "Processing Record 14 of Set 20 | yarovoye\n",
      "Processing Record 15 of Set 20 | yulara\n",
      "Processing Record 16 of Set 20 | vila\n",
      "Processing Record 17 of Set 20 | requena\n",
      "Processing Record 18 of Set 20 | inuvik\n",
      "Processing Record 19 of Set 20 | faanui\n",
      "Processing Record 20 of Set 20 | sao filipe\n",
      "Processing Record 21 of Set 20 | mao\n",
      "Processing Record 22 of Set 20 | mercedes\n",
      "Processing Record 23 of Set 20 | leningradskiy\n",
      "Processing Record 24 of Set 20 | provideniya\n",
      "Processing Record 25 of Set 20 | alghero\n",
      "Processing Record 26 of Set 20 | keetmanshoop\n",
      "Processing Record 27 of Set 20 | toktogul\n",
      "Processing Record 28 of Set 20 | skjervoy\n",
      "Processing Record 29 of Set 20 | freeport\n",
      "Processing Record 30 of Set 20 | tabou\n",
      "Processing Record 31 of Set 20 | cabo san lucas\n",
      "Processing Record 32 of Set 20 | biak\n",
      "Processing Record 33 of Set 20 | yanam\n",
      "Processing Record 34 of Set 20 | achisay\n",
      "City not found. Skipping...\n",
      "Processing Record 35 of Set 20 | pimentel\n",
      "Processing Record 36 of Set 20 | tarbert\n",
      "Processing Record 37 of Set 20 | swiecie\n",
      "Processing Record 38 of Set 20 | safford\n",
      "Processing Record 39 of Set 20 | alugan\n",
      "Processing Record 40 of Set 20 | santos dumont\n",
      "Processing Record 41 of Set 20 | awash\n",
      "Processing Record 42 of Set 20 | poum\n",
      "Processing Record 43 of Set 20 | digras\n",
      "Processing Record 44 of Set 20 | eydhafushi\n",
      "Processing Record 45 of Set 20 | marmaron\n",
      "City not found. Skipping...\n",
      "Processing Record 46 of Set 20 | sayansk\n",
      "Processing Record 47 of Set 20 | amstetten\n",
      "Processing Record 48 of Set 20 | chetani\n",
      "Processing Record 49 of Set 20 | baykit\n",
      "Processing Record 50 of Set 20 | broome\n",
      "Processing Record 1 of Set 21 | jiaohe\n",
      "Processing Record 2 of Set 21 | sorland\n",
      "Processing Record 3 of Set 21 | sao miguel do araguaia\n",
      "Processing Record 4 of Set 21 | ustka\n",
      "Processing Record 5 of Set 21 | kholuy\n",
      "Processing Record 6 of Set 21 | huangchuan\n",
      "Processing Record 7 of Set 21 | celestun\n",
      "Processing Record 8 of Set 21 | norman wells\n",
      "Processing Record 9 of Set 21 | komsomolskiy\n",
      "Processing Record 10 of Set 21 | flinders\n",
      "Processing Record 11 of Set 21 | atagay\n",
      "Processing Record 12 of Set 21 | yuma\n",
      "Processing Record 13 of Set 21 | las vegas\n",
      "Processing Record 14 of Set 21 | helong\n",
      "Processing Record 15 of Set 21 | inirida\n",
      "Processing Record 16 of Set 21 | kardla\n",
      "Processing Record 17 of Set 21 | nicholasville\n",
      "Processing Record 18 of Set 21 | batie\n",
      "Processing Record 19 of Set 21 | yeniseysk\n",
      "Processing Record 20 of Set 21 | boyolangu\n",
      "Processing Record 21 of Set 21 | gat\n",
      "Processing Record 22 of Set 21 | saryshagan\n",
      "City not found. Skipping...\n",
      "Processing Record 23 of Set 21 | viligili\n",
      "City not found. Skipping...\n",
      "Processing Record 24 of Set 21 | urengoy\n",
      "Processing Record 25 of Set 21 | san quintin\n",
      "Processing Record 26 of Set 21 | nhulunbuy\n",
      "Processing Record 27 of Set 21 | port shepstone\n",
      "Processing Record 28 of Set 21 | zhoucheng\n",
      "Processing Record 29 of Set 21 | beidao\n",
      "Processing Record 30 of Set 21 | hami\n",
      "Processing Record 31 of Set 21 | skegness\n",
      "Processing Record 32 of Set 21 | chernyshevskiy\n",
      "Processing Record 33 of Set 21 | katy\n",
      "Processing Record 34 of Set 21 | chuy\n",
      "Processing Record 35 of Set 21 | ocampo\n",
      "Processing Record 36 of Set 21 | mastic beach\n",
      "Processing Record 37 of Set 21 | along\n",
      "Processing Record 38 of Set 21 | samoded\n",
      "Processing Record 39 of Set 21 | attawapiskat\n",
      "City not found. Skipping...\n",
      "Processing Record 40 of Set 21 | buqayq\n",
      "City not found. Skipping...\n",
      "Processing Record 41 of Set 21 | yerbogachen\n",
      "Processing Record 42 of Set 21 | srednekolymsk\n",
      "Processing Record 43 of Set 21 | pushkino\n",
      "Processing Record 44 of Set 21 | sangar\n",
      "Processing Record 45 of Set 21 | novaya lyada\n",
      "Processing Record 46 of Set 21 | camacupa\n",
      "Processing Record 47 of Set 21 | divicani\n",
      "Processing Record 48 of Set 21 | talcahuano\n",
      "Processing Record 49 of Set 21 | psebay\n",
      "Processing Record 50 of Set 21 | chumphon\n",
      "Processing Record 1 of Set 22 | marsabit\n",
      "Processing Record 2 of Set 22 | svarstad\n",
      "Processing Record 3 of Set 22 | palora\n",
      "Processing Record 4 of Set 22 | louisbourg\n",
      "City not found. Skipping...\n",
      "Processing Record 5 of Set 22 | coquimbo\n",
      "Processing Record 6 of Set 22 | okato\n",
      "Processing Record 7 of Set 22 | palmares\n",
      "Processing Record 8 of Set 22 | karpogory\n",
      "Processing Record 9 of Set 22 | lakes entrance\n",
      "Processing Record 10 of Set 22 | sinnamary\n",
      "Processing Record 11 of Set 22 | mari-turek\n",
      "Processing Record 12 of Set 22 | palmas bellas\n",
      "Processing Record 13 of Set 22 | ocos\n",
      "Processing Record 14 of Set 22 | santa maria\n",
      "Processing Record 15 of Set 22 | zerbst\n",
      "Processing Record 16 of Set 22 | ahmadnagar\n",
      "Processing Record 17 of Set 22 | lubao\n",
      "Processing Record 18 of Set 22 | lumphat\n",
      "Processing Record 19 of Set 22 | krasnyy yar\n",
      "Processing Record 20 of Set 22 | ciudad guayana\n",
      "Processing Record 21 of Set 22 | chifeng\n",
      "Processing Record 22 of Set 22 | acari\n",
      "Processing Record 23 of Set 22 | berdigestyakh\n",
      "Processing Record 24 of Set 22 | vila franca do campo\n",
      "Processing Record 25 of Set 22 | basco\n",
      "Processing Record 26 of Set 22 | karkaralinsk\n",
      "City not found. Skipping...\n",
      "Processing Record 27 of Set 22 | sorvag\n",
      "City not found. Skipping...\n",
      "Processing Record 28 of Set 22 | tambo grande\n",
      "Processing Record 29 of Set 22 | payakumbuh\n",
      "Processing Record 30 of Set 22 | aripuana\n",
      "Processing Record 31 of Set 22 | shimoda\n",
      "Processing Record 32 of Set 22 | bauru\n",
      "Processing Record 33 of Set 22 | puerto carreno\n",
      "Processing Record 34 of Set 22 | slave lake\n",
      "Processing Record 35 of Set 22 | dibaya\n",
      "City not found. Skipping...\n",
      "Processing Record 36 of Set 22 | mincivan\n",
      "Processing Record 37 of Set 22 | mountain home\n",
      "Processing Record 38 of Set 22 | narwar\n",
      "Processing Record 39 of Set 22 | orel-izumrud\n",
      "Processing Record 40 of Set 22 | shache\n",
      "Processing Record 41 of Set 22 | lata\n",
      "Processing Record 42 of Set 22 | vila velha\n",
      "Processing Record 43 of Set 22 | houma\n",
      "Processing Record 44 of Set 22 | broken hill\n",
      "Processing Record 45 of Set 22 | wewak\n",
      "Processing Record 46 of Set 22 | kloulklubed\n",
      "Processing Record 47 of Set 22 | anadyr\n",
      "Processing Record 48 of Set 22 | pericos\n",
      "Processing Record 49 of Set 22 | draguignan\n",
      "Processing Record 50 of Set 22 | atbasar\n",
      "Processing Record 1 of Set 23 | tasgaon\n",
      "Processing Record 2 of Set 23 | smithers\n",
      "Processing Record 3 of Set 23 | rio claro\n",
      "Processing Record 4 of Set 23 | forest\n",
      "Processing Record 5 of Set 23 | ubajara\n",
      "Processing Record 6 of Set 23 | coihaique\n",
      "Processing Record 7 of Set 23 | tucuman\n",
      "Processing Record 8 of Set 23 | kutum\n",
      "Processing Record 9 of Set 23 | hobyo\n",
      "Processing Record 10 of Set 23 | hargeysa\n",
      "Processing Record 11 of Set 23 | knysna\n",
      "Processing Record 12 of Set 23 | shelburne\n",
      "Processing Record 13 of Set 23 | chara\n",
      "Processing Record 14 of Set 23 | san miguelito\n",
      "Processing Record 15 of Set 23 | turukhansk\n",
      "Processing Record 16 of Set 23 | rawson\n",
      "Processing Record 17 of Set 23 | schroeder\n",
      "Processing Record 18 of Set 23 | porto novo\n",
      "Processing Record 19 of Set 23 | xinqing\n",
      "Processing Record 20 of Set 23 | newport\n",
      "Processing Record 21 of Set 23 | ust-kuyga\n",
      "Processing Record 22 of Set 23 | springbok\n",
      "Processing Record 23 of Set 23 | clyde river\n",
      "Processing Record 24 of Set 23 | vaasa\n",
      "Processing Record 25 of Set 23 | baturaja\n",
      "Processing Record 26 of Set 23 | kempsey\n",
      "Processing Record 27 of Set 23 | korla\n",
      "City not found. Skipping...\n",
      "Processing Record 28 of Set 23 | saint-joseph\n",
      "Processing Record 29 of Set 23 | sao jose da coroa grande\n",
      "Processing Record 30 of Set 23 | marang\n",
      "City not found. Skipping...\n",
      "Processing Record 31 of Set 23 | lolua\n",
      "City not found. Skipping...\n",
      "Processing Record 32 of Set 23 | sumbe\n",
      "Processing Record 33 of Set 23 | waddan\n",
      "Processing Record 34 of Set 23 | uvat\n",
      "Processing Record 35 of Set 23 | urdzhar\n",
      "City not found. Skipping...\n",
      "Processing Record 36 of Set 23 | zhigansk\n",
      "Processing Record 37 of Set 23 | san angelo\n",
      "Processing Record 38 of Set 23 | ketchikan\n",
      "Processing Record 39 of Set 23 | nueva gerona\n",
      "Processing Record 40 of Set 23 | baloda\n",
      "Processing Record 41 of Set 23 | davila\n",
      "Processing Record 42 of Set 23 | abu dhabi\n",
      "Processing Record 43 of Set 23 | porgera\n",
      "Processing Record 44 of Set 23 | flagstaff\n",
      "Processing Record 45 of Set 23 | granada\n",
      "Processing Record 46 of Set 23 | hamilton\n",
      "Processing Record 47 of Set 23 | mogzon\n",
      "Processing Record 48 of Set 23 | kidal\n"
     ]
    },
    {
     "name": "stdout",
     "output_type": "stream",
     "text": [
      "Processing Record 49 of Set 23 | sitka\n",
      "Processing Record 50 of Set 23 | boralday\n",
      "Processing Record 1 of Set 24 | bow island\n",
      "Processing Record 2 of Set 24 | skovorodino\n",
      "Processing Record 3 of Set 24 | fare\n",
      "Processing Record 4 of Set 24 | giyani\n",
      "Processing Record 5 of Set 24 | lasa\n",
      "Processing Record 6 of Set 24 | burica\n",
      "City not found. Skipping...\n",
      "Processing Record 7 of Set 24 | ludgerovice\n",
      "Processing Record 8 of Set 24 | santa catarina mita\n",
      "Processing Record 9 of Set 24 | kiunga\n",
      "Processing Record 10 of Set 24 | banda aceh\n",
      "Processing Record 11 of Set 24 | kurilsk\n",
      "Processing Record 12 of Set 24 | natitingou\n",
      "Processing Record 13 of Set 24 | babstovo\n",
      "Processing Record 14 of Set 24 | awbari\n",
      "Processing Record 15 of Set 24 | oyama\n",
      "Processing Record 16 of Set 24 | bolungarvik\n",
      "City not found. Skipping...\n",
      "Processing Record 17 of Set 24 | boone\n",
      "Processing Record 18 of Set 24 | klyuchi\n",
      "Processing Record 19 of Set 24 | xushan\n",
      "Processing Record 20 of Set 24 | sembe\n",
      "City not found. Skipping...\n",
      "Processing Record 21 of Set 24 | te anau\n",
      "Processing Record 22 of Set 24 | valparaiso\n",
      "Processing Record 23 of Set 24 | severo-yeniseyskiy\n",
      "Processing Record 24 of Set 24 | bhikhi\n",
      "Processing Record 25 of Set 24 | puerto escondido\n",
      "Processing Record 26 of Set 24 | kenai\n",
      "Processing Record 27 of Set 24 | verkhnyaya inta\n",
      "Processing Record 28 of Set 24 | puertollano\n",
      "Processing Record 29 of Set 24 | dumai\n",
      "Processing Record 30 of Set 24 | tahe\n",
      "Processing Record 31 of Set 24 | ruatoria\n",
      "City not found. Skipping...\n",
      "Processing Record 32 of Set 24 | amalapuram\n",
      "Processing Record 33 of Set 24 | basoko\n",
      "Processing Record 34 of Set 24 | umzimvubu\n",
      "City not found. Skipping...\n",
      "Processing Record 35 of Set 24 | yeppoon\n",
      "Processing Record 36 of Set 24 | alamos\n",
      "Processing Record 37 of Set 24 | sabang\n",
      "Processing Record 38 of Set 24 | kavaratti\n",
      "Processing Record 39 of Set 24 | khonuu\n",
      "City not found. Skipping...\n",
      "Processing Record 40 of Set 24 | yamada\n",
      "Processing Record 41 of Set 24 | lewistown\n",
      "Processing Record 42 of Set 24 | azul\n",
      "Processing Record 43 of Set 24 | tahta\n",
      "City not found. Skipping...\n",
      "Processing Record 44 of Set 24 | kongolo\n",
      "Processing Record 45 of Set 24 | gorontalo\n",
      "Processing Record 46 of Set 24 | gurgan\n",
      "City not found. Skipping...\n",
      "Processing Record 47 of Set 24 | pacific grove\n",
      "Processing Record 48 of Set 24 | verdun\n",
      "Processing Record 49 of Set 24 | poya\n",
      "Processing Record 50 of Set 24 | codrington\n",
      "Processing Record 1 of Set 25 | zyryanka\n",
      "Processing Record 2 of Set 25 | brownsville\n",
      "Processing Record 3 of Set 25 | camacha\n",
      "Processing Record 4 of Set 25 | qaqortoq\n",
      "Processing Record 5 of Set 25 | andenes\n",
      "City not found. Skipping...\n",
      "Processing Record 6 of Set 25 | roald\n",
      "Processing Record 7 of Set 25 | zhangye\n",
      "Processing Record 8 of Set 25 | conde\n",
      "Processing Record 9 of Set 25 | college\n",
      "Processing Record 10 of Set 25 | ulkan\n",
      "Processing Record 11 of Set 25 | cozumel\n",
      "City not found. Skipping...\n",
      "Processing Record 12 of Set 25 | ozernovskiy\n",
      "Processing Record 13 of Set 25 | ambilobe\n",
      "Processing Record 14 of Set 25 | dong hoi\n",
      "Processing Record 15 of Set 25 | raga\n",
      "City not found. Skipping...\n",
      "Processing Record 16 of Set 25 | salym\n",
      "Processing Record 17 of Set 25 | jaciara\n",
      "Processing Record 18 of Set 25 | halifax\n",
      "Processing Record 19 of Set 25 | ventspils\n",
      "Processing Record 20 of Set 25 | axim\n",
      "Processing Record 21 of Set 25 | keflavik\n",
      "Processing Record 22 of Set 25 | fallon\n",
      "Processing Record 23 of Set 25 | rudnaya pristan\n",
      "-----------------------------\n",
      "Data Retrieval Complete      \n",
      "-----------------------------\n"
     ]
    }
   ],
   "source": [
    "# Loop through all the cities in the list.\n",
    "for i, city in enumerate(cities):\n",
    "\n",
    "    # Group cities in sets of 50 for logging purposes.\n",
    "    if (i % 50 == 0 and i >= 50):\n",
    "        set_count += 1\n",
    "        record_count = 1\n",
    "    # Create endpoint URL with each city.\n",
    "    city_url = url + \"&q=\" + city\n",
    "\n",
    "    # Log the URL, record, and set numbers and the city.\n",
    "    print(f\"Processing Record {record_count} of Set {set_count} | {city}\")\n",
    "    # Add 1 to the record count.\n",
    "    record_count += 1\n",
    "    # Run an API request for each of the cities.\n",
    "    try:\n",
    "        # Parse the JSON and retrieve data.\n",
    "        city_weather = requests.get(city_url).json()\n",
    "        # Parse out the needed data.\n",
    "        city_lat = city_weather[\"coord\"][\"lat\"]\n",
    "        city_lng = city_weather[\"coord\"][\"lon\"]\n",
    "        city_max_temp = city_weather[\"main\"][\"temp_max\"]\n",
    "        city_humidity = city_weather[\"main\"][\"humidity\"]\n",
    "        city_clouds = city_weather[\"clouds\"][\"all\"]\n",
    "        city_wind = city_weather[\"wind\"][\"speed\"]\n",
    "        city_country = city_weather[\"sys\"][\"country\"]\n",
    "        # Convert the date to ISO standard.\n",
    "        city_date = datetime.utcfromtimestamp(city_weather[\"dt\"]).strftime('%Y-%m-%d %H:%M:%S')\n",
    "        # Append the city information into city_data list.\n",
    "        city_data.append({\"City\": city.title(),\n",
    "                          \"Lat\": city_lat,\n",
    "                          \"Lng\": city_lng,\n",
    "                          \"Max Temp\": city_max_temp,\n",
    "                          \"Humidity\": city_humidity,\n",
    "                          \"Cloudiness\": city_clouds,\n",
    "                          \"Wind Speed\": city_wind,\n",
    "                          \"Country\": city_country,\n",
    "                          \"Date\": city_date})\n",
    "\n",
    "# If an error is experienced, skip the city.\n",
    "    except:\n",
    "        print(\"City not found. Skipping...\")\n",
    "        pass\n",
    "\n",
    "# Indicate that Data Loading is complete.\n",
    "print(\"-----------------------------\")\n",
    "print(\"Data Retrieval Complete      \")\n",
    "print(\"-----------------------------\")"
   ]
  },
  {
   "cell_type": "code",
   "execution_count": 97,
   "metadata": {},
   "outputs": [
    {
     "data": {
      "text/html": [
       "<div>\n",
       "<style scoped>\n",
       "    .dataframe tbody tr th:only-of-type {\n",
       "        vertical-align: middle;\n",
       "    }\n",
       "\n",
       "    .dataframe tbody tr th {\n",
       "        vertical-align: top;\n",
       "    }\n",
       "\n",
       "    .dataframe thead th {\n",
       "        text-align: right;\n",
       "    }\n",
       "</style>\n",
       "<table border=\"1\" class=\"dataframe\">\n",
       "  <thead>\n",
       "    <tr style=\"text-align: right;\">\n",
       "      <th></th>\n",
       "      <th>City</th>\n",
       "      <th>Lat</th>\n",
       "      <th>Lng</th>\n",
       "      <th>Max Temp</th>\n",
       "      <th>Humidity</th>\n",
       "      <th>Cloudiness</th>\n",
       "      <th>Wind Speed</th>\n",
       "      <th>Country</th>\n",
       "      <th>Date</th>\n",
       "    </tr>\n",
       "  </thead>\n",
       "  <tbody>\n",
       "    <tr>\n",
       "      <td>0</td>\n",
       "      <td>Lebu</td>\n",
       "      <td>8.96</td>\n",
       "      <td>38.73</td>\n",
       "      <td>50.61</td>\n",
       "      <td>75</td>\n",
       "      <td>37</td>\n",
       "      <td>1.61</td>\n",
       "      <td>ET</td>\n",
       "      <td>2019-11-11 00:19:09</td>\n",
       "    </tr>\n",
       "    <tr>\n",
       "      <td>1</td>\n",
       "      <td>Vigrestad</td>\n",
       "      <td>58.57</td>\n",
       "      <td>5.70</td>\n",
       "      <td>34.00</td>\n",
       "      <td>92</td>\n",
       "      <td>0</td>\n",
       "      <td>10.00</td>\n",
       "      <td>NO</td>\n",
       "      <td>2019-11-11 00:19:09</td>\n",
       "    </tr>\n",
       "    <tr>\n",
       "      <td>2</td>\n",
       "      <td>Hofn</td>\n",
       "      <td>64.25</td>\n",
       "      <td>-15.21</td>\n",
       "      <td>43.02</td>\n",
       "      <td>80</td>\n",
       "      <td>100</td>\n",
       "      <td>42.68</td>\n",
       "      <td>IS</td>\n",
       "      <td>2019-11-11 00:19:10</td>\n",
       "    </tr>\n",
       "    <tr>\n",
       "      <td>3</td>\n",
       "      <td>Sa Kaeo</td>\n",
       "      <td>13.80</td>\n",
       "      <td>102.09</td>\n",
       "      <td>67.78</td>\n",
       "      <td>77</td>\n",
       "      <td>97</td>\n",
       "      <td>2.91</td>\n",
       "      <td>TH</td>\n",
       "      <td>2019-11-11 00:19:10</td>\n",
       "    </tr>\n",
       "    <tr>\n",
       "      <td>4</td>\n",
       "      <td>Talara</td>\n",
       "      <td>-4.58</td>\n",
       "      <td>-81.27</td>\n",
       "      <td>65.70</td>\n",
       "      <td>90</td>\n",
       "      <td>4</td>\n",
       "      <td>12.28</td>\n",
       "      <td>PE</td>\n",
       "      <td>2019-11-11 00:19:10</td>\n",
       "    </tr>\n",
       "    <tr>\n",
       "      <td>5</td>\n",
       "      <td>Inongo</td>\n",
       "      <td>-1.93</td>\n",
       "      <td>18.29</td>\n",
       "      <td>72.84</td>\n",
       "      <td>89</td>\n",
       "      <td>84</td>\n",
       "      <td>0.83</td>\n",
       "      <td>CD</td>\n",
       "      <td>2019-11-11 00:19:10</td>\n",
       "    </tr>\n",
       "    <tr>\n",
       "      <td>6</td>\n",
       "      <td>Kapaa</td>\n",
       "      <td>22.08</td>\n",
       "      <td>-159.32</td>\n",
       "      <td>80.60</td>\n",
       "      <td>94</td>\n",
       "      <td>90</td>\n",
       "      <td>10.29</td>\n",
       "      <td>US</td>\n",
       "      <td>2019-11-11 00:19:09</td>\n",
       "    </tr>\n",
       "    <tr>\n",
       "      <td>7</td>\n",
       "      <td>San Patricio</td>\n",
       "      <td>-26.98</td>\n",
       "      <td>-56.83</td>\n",
       "      <td>74.05</td>\n",
       "      <td>73</td>\n",
       "      <td>23</td>\n",
       "      <td>9.60</td>\n",
       "      <td>PY</td>\n",
       "      <td>2019-11-11 00:19:11</td>\n",
       "    </tr>\n",
       "    <tr>\n",
       "      <td>8</td>\n",
       "      <td>Jamestown</td>\n",
       "      <td>-33.21</td>\n",
       "      <td>138.60</td>\n",
       "      <td>78.49</td>\n",
       "      <td>13</td>\n",
       "      <td>0</td>\n",
       "      <td>18.30</td>\n",
       "      <td>AU</td>\n",
       "      <td>2019-11-11 00:19:11</td>\n",
       "    </tr>\n",
       "    <tr>\n",
       "      <td>9</td>\n",
       "      <td>Meulaboh</td>\n",
       "      <td>4.14</td>\n",
       "      <td>96.13</td>\n",
       "      <td>79.57</td>\n",
       "      <td>78</td>\n",
       "      <td>99</td>\n",
       "      <td>3.02</td>\n",
       "      <td>ID</td>\n",
       "      <td>2019-11-11 00:19:11</td>\n",
       "    </tr>\n",
       "  </tbody>\n",
       "</table>\n",
       "</div>"
      ],
      "text/plain": [
       "           City    Lat     Lng  Max Temp  Humidity  Cloudiness  Wind Speed  \\\n",
       "0          Lebu   8.96   38.73     50.61        75          37        1.61   \n",
       "1     Vigrestad  58.57    5.70     34.00        92           0       10.00   \n",
       "2          Hofn  64.25  -15.21     43.02        80         100       42.68   \n",
       "3       Sa Kaeo  13.80  102.09     67.78        77          97        2.91   \n",
       "4        Talara  -4.58  -81.27     65.70        90           4       12.28   \n",
       "5        Inongo  -1.93   18.29     72.84        89          84        0.83   \n",
       "6         Kapaa  22.08 -159.32     80.60        94          90       10.29   \n",
       "7  San Patricio -26.98  -56.83     74.05        73          23        9.60   \n",
       "8     Jamestown -33.21  138.60     78.49        13           0       18.30   \n",
       "9      Meulaboh   4.14   96.13     79.57        78          99        3.02   \n",
       "\n",
       "  Country                 Date  \n",
       "0      ET  2019-11-11 00:19:09  \n",
       "1      NO  2019-11-11 00:19:09  \n",
       "2      IS  2019-11-11 00:19:10  \n",
       "3      TH  2019-11-11 00:19:10  \n",
       "4      PE  2019-11-11 00:19:10  \n",
       "5      CD  2019-11-11 00:19:10  \n",
       "6      US  2019-11-11 00:19:09  \n",
       "7      PY  2019-11-11 00:19:11  \n",
       "8      AU  2019-11-11 00:19:11  \n",
       "9      ID  2019-11-11 00:19:11  "
      ]
     },
     "execution_count": 97,
     "metadata": {},
     "output_type": "execute_result"
    }
   ],
   "source": [
    "# Convert the array of dictionaries to a Pandas DataFrame.\n",
    "city_data_df = pd.DataFrame(city_data)\n",
    "city_data_df.head(10)"
   ]
  },
  {
   "cell_type": "code",
   "execution_count": 98,
   "metadata": {},
   "outputs": [
    {
     "data": {
      "text/html": [
       "<div>\n",
       "<style scoped>\n",
       "    .dataframe tbody tr th:only-of-type {\n",
       "        vertical-align: middle;\n",
       "    }\n",
       "\n",
       "    .dataframe tbody tr th {\n",
       "        vertical-align: top;\n",
       "    }\n",
       "\n",
       "    .dataframe thead th {\n",
       "        text-align: right;\n",
       "    }\n",
       "</style>\n",
       "<table border=\"1\" class=\"dataframe\">\n",
       "  <thead>\n",
       "    <tr style=\"text-align: right;\">\n",
       "      <th></th>\n",
       "      <th>City</th>\n",
       "      <th>Country</th>\n",
       "      <th>Date</th>\n",
       "      <th>Lat</th>\n",
       "      <th>Lng</th>\n",
       "      <th>Max Temp</th>\n",
       "      <th>Humidity</th>\n",
       "      <th>Cloudiness</th>\n",
       "      <th>Wind Speed</th>\n",
       "    </tr>\n",
       "  </thead>\n",
       "  <tbody>\n",
       "    <tr>\n",
       "      <td>0</td>\n",
       "      <td>Lebu</td>\n",
       "      <td>ET</td>\n",
       "      <td>2019-11-11 00:19:09</td>\n",
       "      <td>8.96</td>\n",
       "      <td>38.73</td>\n",
       "      <td>50.61</td>\n",
       "      <td>75</td>\n",
       "      <td>37</td>\n",
       "      <td>1.61</td>\n",
       "    </tr>\n",
       "    <tr>\n",
       "      <td>1</td>\n",
       "      <td>Vigrestad</td>\n",
       "      <td>NO</td>\n",
       "      <td>2019-11-11 00:19:09</td>\n",
       "      <td>58.57</td>\n",
       "      <td>5.70</td>\n",
       "      <td>34.00</td>\n",
       "      <td>92</td>\n",
       "      <td>0</td>\n",
       "      <td>10.00</td>\n",
       "    </tr>\n",
       "    <tr>\n",
       "      <td>2</td>\n",
       "      <td>Hofn</td>\n",
       "      <td>IS</td>\n",
       "      <td>2019-11-11 00:19:10</td>\n",
       "      <td>64.25</td>\n",
       "      <td>-15.21</td>\n",
       "      <td>43.02</td>\n",
       "      <td>80</td>\n",
       "      <td>100</td>\n",
       "      <td>42.68</td>\n",
       "    </tr>\n",
       "    <tr>\n",
       "      <td>3</td>\n",
       "      <td>Sa Kaeo</td>\n",
       "      <td>TH</td>\n",
       "      <td>2019-11-11 00:19:10</td>\n",
       "      <td>13.80</td>\n",
       "      <td>102.09</td>\n",
       "      <td>67.78</td>\n",
       "      <td>77</td>\n",
       "      <td>97</td>\n",
       "      <td>2.91</td>\n",
       "    </tr>\n",
       "    <tr>\n",
       "      <td>4</td>\n",
       "      <td>Talara</td>\n",
       "      <td>PE</td>\n",
       "      <td>2019-11-11 00:19:10</td>\n",
       "      <td>-4.58</td>\n",
       "      <td>-81.27</td>\n",
       "      <td>65.70</td>\n",
       "      <td>90</td>\n",
       "      <td>4</td>\n",
       "      <td>12.28</td>\n",
       "    </tr>\n",
       "    <tr>\n",
       "      <td>5</td>\n",
       "      <td>Inongo</td>\n",
       "      <td>CD</td>\n",
       "      <td>2019-11-11 00:19:10</td>\n",
       "      <td>-1.93</td>\n",
       "      <td>18.29</td>\n",
       "      <td>72.84</td>\n",
       "      <td>89</td>\n",
       "      <td>84</td>\n",
       "      <td>0.83</td>\n",
       "    </tr>\n",
       "    <tr>\n",
       "      <td>6</td>\n",
       "      <td>Kapaa</td>\n",
       "      <td>US</td>\n",
       "      <td>2019-11-11 00:19:09</td>\n",
       "      <td>22.08</td>\n",
       "      <td>-159.32</td>\n",
       "      <td>80.60</td>\n",
       "      <td>94</td>\n",
       "      <td>90</td>\n",
       "      <td>10.29</td>\n",
       "    </tr>\n",
       "    <tr>\n",
       "      <td>7</td>\n",
       "      <td>San Patricio</td>\n",
       "      <td>PY</td>\n",
       "      <td>2019-11-11 00:19:11</td>\n",
       "      <td>-26.98</td>\n",
       "      <td>-56.83</td>\n",
       "      <td>74.05</td>\n",
       "      <td>73</td>\n",
       "      <td>23</td>\n",
       "      <td>9.60</td>\n",
       "    </tr>\n",
       "    <tr>\n",
       "      <td>8</td>\n",
       "      <td>Jamestown</td>\n",
       "      <td>AU</td>\n",
       "      <td>2019-11-11 00:19:11</td>\n",
       "      <td>-33.21</td>\n",
       "      <td>138.60</td>\n",
       "      <td>78.49</td>\n",
       "      <td>13</td>\n",
       "      <td>0</td>\n",
       "      <td>18.30</td>\n",
       "    </tr>\n",
       "    <tr>\n",
       "      <td>9</td>\n",
       "      <td>Meulaboh</td>\n",
       "      <td>ID</td>\n",
       "      <td>2019-11-11 00:19:11</td>\n",
       "      <td>4.14</td>\n",
       "      <td>96.13</td>\n",
       "      <td>79.57</td>\n",
       "      <td>78</td>\n",
       "      <td>99</td>\n",
       "      <td>3.02</td>\n",
       "    </tr>\n",
       "  </tbody>\n",
       "</table>\n",
       "</div>"
      ],
      "text/plain": [
       "           City Country                 Date    Lat     Lng  Max Temp  \\\n",
       "0          Lebu      ET  2019-11-11 00:19:09   8.96   38.73     50.61   \n",
       "1     Vigrestad      NO  2019-11-11 00:19:09  58.57    5.70     34.00   \n",
       "2          Hofn      IS  2019-11-11 00:19:10  64.25  -15.21     43.02   \n",
       "3       Sa Kaeo      TH  2019-11-11 00:19:10  13.80  102.09     67.78   \n",
       "4        Talara      PE  2019-11-11 00:19:10  -4.58  -81.27     65.70   \n",
       "5        Inongo      CD  2019-11-11 00:19:10  -1.93   18.29     72.84   \n",
       "6         Kapaa      US  2019-11-11 00:19:09  22.08 -159.32     80.60   \n",
       "7  San Patricio      PY  2019-11-11 00:19:11 -26.98  -56.83     74.05   \n",
       "8     Jamestown      AU  2019-11-11 00:19:11 -33.21  138.60     78.49   \n",
       "9      Meulaboh      ID  2019-11-11 00:19:11   4.14   96.13     79.57   \n",
       "\n",
       "   Humidity  Cloudiness  Wind Speed  \n",
       "0        75          37        1.61  \n",
       "1        92           0       10.00  \n",
       "2        80         100       42.68  \n",
       "3        77          97        2.91  \n",
       "4        90           4       12.28  \n",
       "5        89          84        0.83  \n",
       "6        94          90       10.29  \n",
       "7        73          23        9.60  \n",
       "8        13           0       18.30  \n",
       "9        78          99        3.02  "
      ]
     },
     "execution_count": 98,
     "metadata": {},
     "output_type": "execute_result"
    }
   ],
   "source": [
    "New_Column_Order=[\"City\",\"Country\",\"Date\",\"Lat\",\"Lng\",\"Max Temp\",\"Humidity\",\"Cloudiness\",\"Wind Speed\"]\n",
    "city_data_df=city_data_df[New_Column_Order]\n",
    "city_data_df.head(10)"
   ]
  },
  {
   "cell_type": "code",
   "execution_count": 99,
   "metadata": {},
   "outputs": [],
   "source": [
    "# Create the output file (CSV).\n",
    "output_data_file = \"weather_data/cities.csv\"\n",
    "# Export the City_Data into a CSV.\n",
    "city_data_df.to_csv(output_data_file, index_label=\"City_ID\")"
   ]
  },
  {
   "cell_type": "code",
   "execution_count": 100,
   "metadata": {},
   "outputs": [],
   "source": [
    "# Extract relevant fields from the DataFrame for plotting.\n",
    "lats = city_data_df[\"Lat\"]\n",
    "max_temps = city_data_df[\"Max Temp\"]\n",
    "humidity = city_data_df[\"Humidity\"]\n",
    "cloudiness = city_data_df[\"Cloudiness\"]\n",
    "wind_speed = city_data_df[\"Wind Speed\"]"
   ]
  },
  {
   "cell_type": "code",
   "execution_count": 101,
   "metadata": {},
   "outputs": [
    {
     "data": {
      "text/plain": [
       "1573431679.8848424"
      ]
     },
     "execution_count": 101,
     "metadata": {},
     "output_type": "execute_result"
    }
   ],
   "source": [
    "# Import the time module.\n",
    "import time\n",
    "# Get today's date in seconds.\n",
    "today = time.time()\n",
    "today"
   ]
  },
  {
   "cell_type": "code",
   "execution_count": 102,
   "metadata": {},
   "outputs": [
    {
     "data": {
      "image/png": "[encoded data removed]",
      "text/plain": [
       "<Figure size 432x288 with 1 Axes>"
      ]
     },
     "metadata": {
      "needs_background": "light"
     },
     "output_type": "display_data"
    }
   ],
   "source": [
    "# Build the scatter plot for latitude vs. max temperature.\n",
    "plt.scatter(lats,\n",
    "            max_temps,\n",
    "            edgecolor=\"black\", linewidths=1, marker=\"o\",\n",
    "            alpha=0.8, label=\"Cities\")\n",
    "\n",
    "# Incorporate the other graph properties.\n",
    "plt.title(f\"City Latitude vs. Max Temperature \"+ time.strftime(\"%x\"))\n",
    "plt.ylabel(\"Max Temperature (F)\")\n",
    "plt.xlabel(\"Latitude\")\n",
    "plt.grid(True)\n",
    "\n",
    "# Save the figure.\n",
    "plt.savefig(\"weather_data/Fig1.png\")\n",
    "\n",
    "# Show plot.\n",
    "plt.show()"
   ]
  },
  {
   "cell_type": "code",
   "execution_count": 103,
   "metadata": {},
   "outputs": [
    {
     "data": {
      "image/png": "[encoded data removed]",
      "text/plain": [
       "<Figure size 432x288 with 1 Axes>"
      ]
     },
     "metadata": {
      "needs_background": "light"
     },
     "output_type": "display_data"
    }
   ],
   "source": [
    "# Build the scatter plot for latitude vs. humidity.\n",
    "plt.scatter(lats,\n",
    "            humidity,\n",
    "            edgecolor=\"black\", linewidths=1, marker=\"o\",\n",
    "            alpha=0.8, label=\"Cities\")\n",
    "\n",
    "# Incorporate the other graph properties.\n",
    "plt.title(f\"City Latitude vs. Humidity% \"+ time.strftime(\"%x\"))\n",
    "plt.ylabel(\"Humidity%)\")\n",
    "plt.xlabel(\"Latitude\")\n",
    "plt.grid(True)\n",
    "\n",
    "# Save the figure.\n",
    "plt.savefig(\"weather_data/Fig1.png\")\n",
    "\n",
    "# Show plot.\n",
    "plt.show()"
   ]
  },
  {
   "cell_type": "code",
   "execution_count": 104,
   "metadata": {},
   "outputs": [
    {
     "data": {
      "image/png": "[encoded data removed]",
      "text/plain": [
       "<Figure size 432x288 with 1 Axes>"
      ]
     },
     "metadata": {
      "needs_background": "light"
     },
     "output_type": "display_data"
    }
   ],
   "source": [
    "# Build the scatter plot for latitude vs. cloudiness.\n",
    "plt.scatter(lats,\n",
    "            cloudiness,\n",
    "            edgecolor=\"black\", linewidths=1, marker=\"o\",\n",
    "            alpha=0.8, label=\"Cities\")\n",
    "\n",
    "# Incorporate the other graph properties.\n",
    "plt.title(f\"City Latitude vs. Cloudiness \"+ time.strftime(\"%x\"))\n",
    "plt.ylabel(\"Cloudiness\")\n",
    "plt.xlabel(\"Latitude\")\n",
    "plt.grid(True)\n",
    "\n",
    "# Save the figure.\n",
    "plt.savefig(\"weather_data/Fig1.png\")\n",
    "\n",
    "# Show plot.\n",
    "plt.show()"
   ]
  },
  {
   "cell_type": "code",
   "execution_count": 105,
   "metadata": {},
   "outputs": [
    {
     "data": {
      "image/png": "[encoded data removed]",
      "text/plain": [
       "<Figure size 432x288 with 1 Axes>"
      ]
     },
     "metadata": {
      "needs_background": "light"
     },
     "output_type": "display_data"
    }
   ],
   "source": [
    "# Build the scatter plot for latitude vs. wind speed.\n",
    "plt.scatter(lats,\n",
    "            wind_speed,\n",
    "            edgecolor=\"black\", linewidths=1, marker=\"o\",\n",
    "            alpha=0.8, label=\"Cities\")\n",
    "\n",
    "# Incorporate the other graph properties.\n",
    "plt.title(f\"City Latitude vs. Wind Speed \"+ time.strftime(\"%x\"))\n",
    "plt.ylabel(\"Wind Speed)\")\n",
    "plt.xlabel(\"Latitude\")\n",
    "plt.grid(True)\n",
    "\n",
    "# Save the figure.\n",
    "plt.savefig(\"weather_data/Fig1.png\")\n",
    "\n",
    "# Show plot.\n",
    "plt.show()"
   ]
  },
  {
   "cell_type": "code",
   "execution_count": 106,
   "metadata": {},
   "outputs": [],
   "source": [
    "# Import linear regression from the SciPy stats module.\n",
    "from scipy.stats import linregress"
   ]
  },
  {
   "cell_type": "code",
   "execution_count": 107,
   "metadata": {},
   "outputs": [],
   "source": [
    "# Create an equal number of latitudes and temperatures.\n",
    "lats = [42.5, 43.9, 8.1, 36.8, 79.9, 69.1, 25.7, 15.3, 12.7, 64.5]\n",
    "temps = [80.5, 75.3, 90.9, 90.0, 40.4, 62.3, 85.4, 79.6, 72.5, 72.0]"
   ]
  },
  {
   "cell_type": "code",
   "execution_count": 108,
   "metadata": {},
   "outputs": [
    {
     "name": "stdout",
     "output_type": "stream",
     "text": [
      "y = -0.45x + 92.94\n",
      "The p-value is is: 0.011\n"
     ]
    }
   ],
   "source": [
    "# Perform linear regression.\n",
    "(slope, intercept, r_value, p_value, std_err) = linregress(lats, temps)\n",
    "# Get the equation of the line.\n",
    "line_eq = \"y = \" + str(round(slope,2)) + \"x + \" + str(round(intercept,2))\n",
    "print(line_eq)\n",
    "print(f\"The p-value is is: {p_value:.3f}\")"
   ]
  },
  {
   "cell_type": "code",
   "execution_count": 109,
   "metadata": {},
   "outputs": [
    {
     "data": {
      "text/plain": [
       "[73.68973782871005,\n",
       " 73.05563705897195,\n",
       " 89.2704995994175,\n",
       " 76.27143381978658,\n",
       " 56.750188694278094,\n",
       " 61.64182320368626,\n",
       " 81.29894706556718,\n",
       " 86.00940992647874,\n",
       " 87.18702564170663,\n",
       " 63.72529716139714]"
      ]
     },
     "execution_count": 109,
     "metadata": {},
     "output_type": "execute_result"
    }
   ],
   "source": [
    "# Calculate the regression line \"y values\" from the slope and intercept.\n",
    "regress_values = [(lat * slope + intercept) for lat in lats]\n",
    "regress_values"
   ]
  },
  {
   "cell_type": "code",
   "execution_count": 110,
   "metadata": {},
   "outputs": [
    {
     "data": {
      "image/png": "[encoded data removed]",
      "text/plain": [
       "<Figure size 432x288 with 1 Axes>"
      ]
     },
     "metadata": {
      "needs_background": "light"
     },
     "output_type": "display_data"
    }
   ],
   "source": [
    "# Import Matplotlib.\n",
    "import matplotlib.pyplot as plt\n",
    "# Create a scatter plot of the x and y values.\n",
    "plt.scatter(lats,temps)\n",
    "# Plot the regression line with the x-values and the y coordinates based on the intercept and slope.\n",
    "plt.plot(lats,regress_values,\"r\")\n",
    "# Annotate the text for the line equation and add its coordinates.\n",
    "plt.annotate(line_eq, (10,40), fontsize=15, color=\"red\")\n",
    "plt.xlabel('Latitude')\n",
    "plt.ylabel('Temp')\n",
    "plt.show()"
   ]
  },
  {
   "cell_type": "code",
   "execution_count": 113,
   "metadata": {},
   "outputs": [],
   "source": [
    "# Create a function to create perform linear regression on the weather data\n",
    "# and plot a regression line and the equation with the data.  \n",
    "def plot_linear_regression(x_values, y_values, title, y_label, text_coordinates):\n",
    "    \n",
    "    # Run regression on hemisphere weather data.\n",
    "    (slope, intercept, r_value, p_value, std_err) = linregress(x_values, y_values)\n",
    "    \n",
    "    # Calculate the regression line \"y values\" from the slope and intercept.\n",
    "    regress_values = x_values * slope + intercept\n",
    "    # Get the equation of the line.\n",
    "    line_eq = \"y = \" + str(round(slope,2)) + \"x + \" + str(round(intercept,2))\n",
    "    # Create a scatter plot and plot the regression line.\n",
    "    plt.scatter(x_values,y_values)\n",
    "    plt.plot(x_values,regress_values,\"r\")\n",
    "    # Annotate the text for the line equation.\n",
    "    plt.annotate(line_eq, text_coordinates, fontsize=15, color=\"red\")\n",
    "    plt.xlabel('Latitude')\n",
    "    plt.ylabel(y_label)\n",
    "    plt.show()"
   ]
  },
  {
   "cell_type": "code",
   "execution_count": 117,
   "metadata": {},
   "outputs": [
    {
     "data": {
      "text/html": [
       "<div>\n",
       "<style scoped>\n",
       "    .dataframe tbody tr th:only-of-type {\n",
       "        vertical-align: middle;\n",
       "    }\n",
       "\n",
       "    .dataframe tbody tr th {\n",
       "        vertical-align: top;\n",
       "    }\n",
       "\n",
       "    .dataframe thead th {\n",
       "        text-align: right;\n",
       "    }\n",
       "</style>\n",
       "<table border=\"1\" class=\"dataframe\">\n",
       "  <thead>\n",
       "    <tr style=\"text-align: right;\">\n",
       "      <th></th>\n",
       "      <th>City</th>\n",
       "      <th>Country</th>\n",
       "      <th>Date</th>\n",
       "      <th>Lat</th>\n",
       "      <th>Lng</th>\n",
       "      <th>Max Temp</th>\n",
       "      <th>Humidity</th>\n",
       "      <th>Cloudiness</th>\n",
       "      <th>Wind Speed</th>\n",
       "    </tr>\n",
       "  </thead>\n",
       "  <tbody>\n",
       "    <tr>\n",
       "      <td>0</td>\n",
       "      <td>Lebu</td>\n",
       "      <td>ET</td>\n",
       "      <td>2019-11-11 00:19:09</td>\n",
       "      <td>8.96</td>\n",
       "      <td>38.73</td>\n",
       "      <td>50.61</td>\n",
       "      <td>75</td>\n",
       "      <td>37</td>\n",
       "      <td>1.61</td>\n",
       "    </tr>\n",
       "    <tr>\n",
       "      <td>1</td>\n",
       "      <td>Vigrestad</td>\n",
       "      <td>NO</td>\n",
       "      <td>2019-11-11 00:19:09</td>\n",
       "      <td>58.57</td>\n",
       "      <td>5.70</td>\n",
       "      <td>34.00</td>\n",
       "      <td>92</td>\n",
       "      <td>0</td>\n",
       "      <td>10.00</td>\n",
       "    </tr>\n",
       "    <tr>\n",
       "      <td>2</td>\n",
       "      <td>Hofn</td>\n",
       "      <td>IS</td>\n",
       "      <td>2019-11-11 00:19:10</td>\n",
       "      <td>64.25</td>\n",
       "      <td>-15.21</td>\n",
       "      <td>43.02</td>\n",
       "      <td>80</td>\n",
       "      <td>100</td>\n",
       "      <td>42.68</td>\n",
       "    </tr>\n",
       "    <tr>\n",
       "      <td>3</td>\n",
       "      <td>Sa Kaeo</td>\n",
       "      <td>TH</td>\n",
       "      <td>2019-11-11 00:19:10</td>\n",
       "      <td>13.80</td>\n",
       "      <td>102.09</td>\n",
       "      <td>67.78</td>\n",
       "      <td>77</td>\n",
       "      <td>97</td>\n",
       "      <td>2.91</td>\n",
       "    </tr>\n",
       "    <tr>\n",
       "      <td>4</td>\n",
       "      <td>Talara</td>\n",
       "      <td>PE</td>\n",
       "      <td>2019-11-11 00:19:10</td>\n",
       "      <td>-4.58</td>\n",
       "      <td>-81.27</td>\n",
       "      <td>65.70</td>\n",
       "      <td>90</td>\n",
       "      <td>4</td>\n",
       "      <td>12.28</td>\n",
       "    </tr>\n",
       "  </tbody>\n",
       "</table>\n",
       "</div>"
      ],
      "text/plain": [
       "        City Country                 Date    Lat     Lng  Max Temp  Humidity  \\\n",
       "0       Lebu      ET  2019-11-11 00:19:09   8.96   38.73     50.61        75   \n",
       "1  Vigrestad      NO  2019-11-11 00:19:09  58.57    5.70     34.00        92   \n",
       "2       Hofn      IS  2019-11-11 00:19:10  64.25  -15.21     43.02        80   \n",
       "3    Sa Kaeo      TH  2019-11-11 00:19:10  13.80  102.09     67.78        77   \n",
       "4     Talara      PE  2019-11-11 00:19:10  -4.58  -81.27     65.70        90   \n",
       "\n",
       "   Cloudiness  Wind Speed  \n",
       "0          37        1.61  \n",
       "1           0       10.00  \n",
       "2         100       42.68  \n",
       "3          97        2.91  \n",
       "4           4       12.28  "
      ]
     },
     "execution_count": 117,
     "metadata": {},
     "output_type": "execute_result"
    }
   ],
   "source": [
    "city_data_df.loc[(city_data_df[\"Lat\"] >= 0)]\n",
    "city_data_df.head(5)"
   ]
  },
  {
   "cell_type": "code",
   "execution_count": 126,
   "metadata": {
    "scrolled": true
   },
   "outputs": [
    {
     "data": {
      "text/plain": [
       "City                    Carnarvon\n",
       "Country                        ZA\n",
       "Date          2019-11-11 00:19:12\n",
       "Lat                        -30.97\n",
       "Lng                         22.13\n",
       "Max Temp                    61.45\n",
       "Humidity                       55\n",
       "Cloudiness                     28\n",
       "Wind Speed                   9.78\n",
       "Name: 13, dtype: object"
      ]
     },
     "execution_count": 126,
     "metadata": {},
     "output_type": "execute_result"
    }
   ],
   "source": [
    "index13 =city_data_df.loc[13]\n",
    "index13"
   ]
  },
  {
   "cell_type": "code",
   "execution_count": 127,
   "metadata": {},
   "outputs": [],
   "source": [
    "# Create Northern and Southern Hemisphere DataFrames.\n",
    "northern_hemi_df = city_data_df.loc[(city_data_df[\"Lat\"] >= 0)]\n",
    "southern_hemi_df = city_data_df.loc[(city_data_df[\"Lat\"] < 0)]"
   ]
  },
  {
   "cell_type": "code",
   "execution_count": 128,
   "metadata": {},
   "outputs": [
    {
     "data": {
      "image/png": "[encoded data removed]",
      "text/plain": [
       "<Figure size 432x288 with 1 Axes>"
      ]
     },
     "metadata": {
      "needs_background": "light"
     },
     "output_type": "display_data"
    }
   ],
   "source": [
    "# Linear regression on the Northern Hemisphere\n",
    "x_values = northern_hemi_df[\"Lat\"]\n",
    "y_values = northern_hemi_df[\"Max Temp\"]\n",
    "# Call the function.\n",
    "plot_linear_regression(x_values, y_values,\n",
    "                       'Linear Regression on the Northern Hemisphere for Maximum Temperature', 'Max Temp',(10,40))"
   ]
  },
  {
   "cell_type": "code",
   "execution_count": 133,
   "metadata": {},
   "outputs": [],
   "source": [
    "# Create a function to create perform linear regression on the weather data\n",
    "# and plot a regression line and the equation with the data.  \n",
    "def plot_linear_regression(xs_values, ys_values, title, y_label, text_coordinates):\n",
    "    \n",
    "    # Run regression on hemisphere weather data.\n",
    "    (slope, intercept, r_value, p_value, std_err) = linregress(xs_values, ys_values)\n",
    "    \n",
    "    # Calculate the regression line \"y values\" from the slope and intercept.\n",
    "    regress_values = xs_values * slope + intercept\n",
    "    # Get the equation of the line.\n",
    "    line_eq = \"y = \" + str(round(slope,2)) + \"x + \" + str(round(intercept,2))\n",
    "    # Create a scatter plot and plot the regression line.\n",
    "    plt.scatter(xs_values,ys_values)\n",
    "    plt.plot(xs_values,regress_values,\"r\")\n",
    "    # Annotate the text for the line equation.\n",
    "    plt.annotate(           line_eq, text_coordinates, fontsize=15, color=\"red\")\n",
    "    plt.xlabel('Latitude')\n",
    "    plt.ylabel(y_label)\n",
    "    plt.show()"
   ]
  },
  {
   "cell_type": "code",
   "execution_count": 142,
   "metadata": {},
   "outputs": [
    {
     "data": {
      "image/png": "[encoded data removed]",
      "text/plain": [
       "<Figure size 432x288 with 1 Axes>"
      ]
     },
     "metadata": {
      "needs_background": "light"
     },
     "output_type": "display_data"
    }
   ],
   "source": [
    "# Linear regression on the Southen Hemisphere\n",
    "xs_values = southern_hemi_df[\"Lat\"]\n",
    "ys_values = southern_hemi_df[\"Max Temp\"]\n",
    "# Call the function.\n",
    "plot_linear_regression(xs_values, ys_values,\n",
    "                       'Linear Regression on the Southern Hemisphere for Maximum Temperature', 'Max Temp',(-50,50))"
   ]
  },
  {
   "cell_type": "code",
   "execution_count": 137,
   "metadata": {},
   "outputs": [
    {
     "data": {
      "image/png": "[encoded data removed]",
      "text/plain": [
       "<Figure size 432x288 with 1 Axes>"
      ]
     },
     "metadata": {
      "needs_background": "light"
     },
     "output_type": "display_data"
    }
   ],
   "source": [
    "# Linear regression on the Northern Hemisphere humidity\n",
    "x_values = northern_hemi_df[\"Lat\"]\n",
    "y_values = northern_hemi_df[\"Humidity\"]\n",
    "# Call the function.\n",
    "plot_linear_regression(x_values, y_values,\n",
    "                       'Linear Regression on the Northern Hemisphere for Humidity', 'Humidity',(40,10))"
   ]
  },
  {
   "cell_type": "code",
   "execution_count": 143,
   "metadata": {},
   "outputs": [
    {
     "data": {
      "image/png": "[encoded data removed]",
      "text/plain": [
       "<Figure size 432x288 with 1 Axes>"
      ]
     },
     "metadata": {
      "needs_background": "light"
     },
     "output_type": "display_data"
    }
   ],
   "source": [
    "# Linear regression on the Southern Hemisphere humidity\n",
    "x_values = southern_hemi_df[\"Lat\"]\n",
    "y_values = southern_hemi_df[\"Humidity\"]\n",
    "# Call the function.\n",
    "plot_linear_regression(x_values, y_values,'Linear Regression on the Southern Hemisphere for Humidity', 'Humidity',(-50,40))"
   ]
  },
  {
   "cell_type": "code",
   "execution_count": 144,
   "metadata": {},
   "outputs": [
    {
     "data": {
      "image/png": "[encoded data removed]",
      "text/plain": [
       "<Figure size 432x288 with 1 Axes>"
      ]
     },
     "metadata": {
      "needs_background": "light"
     },
     "output_type": "display_data"
    }
   ],
   "source": [
    "# Linear regression on the Northern Hemisphere cloudiness\n",
    "x_values = northern_hemi_df[\"Lat\"]\n",
    "y_values = northern_hemi_df[\"Cloudiness\"]\n",
    "# Call the function.\n",
    "plot_linear_regression(x_values, y_values,\n",
    "                       'Linear Regression on the Northern Hemisphere for Cloudines', 'Cloudines',(40,10))"
   ]
  },
  {
   "cell_type": "code",
   "execution_count": 146,
   "metadata": {},
   "outputs": [
    {
     "data": {
      "image/png": "[encoded data removed]",
      "text/plain": [
       "<Figure size 432x288 with 1 Axes>"
      ]
     },
     "metadata": {
      "needs_background": "light"
     },
     "output_type": "display_data"
    }
   ],
   "source": [
    "# Linear regression on the Southern Hemisphere cloudiness\n",
    "x_values = southern_hemi_df[\"Lat\"]\n",
    "y_values = southern_hemi_df[\"Cloudiness\"]\n",
    "# Call the function.\n",
    "plot_linear_regression(x_values, y_values,\n",
    "                       'Linear Regression on the Southern Hemisphere for Cloudines', 'Cloudines',(-40,20))"
   ]
  },
  {
   "cell_type": "code",
   "execution_count": 148,
   "metadata": {},
   "outputs": [
    {
     "data": {
      "image/png": "[encoded data removed]",
      "text/plain": [
       "<Figure size 432x288 with 1 Axes>"
      ]
     },
     "metadata": {
      "needs_background": "light"
     },
     "output_type": "display_data"
    }
   ],
   "source": [
    "# Linear regression on the Northern Hemisphere\n",
    "x_values = northern_hemi_df[\"Lat\"]\n",
    "y_values = northern_hemi_df[\"Wind Speed\"]\n",
    "# Call the function.\n",
    "plot_linear_regression(x_values, y_values,\n",
    "                       'Linear Regression on the Northern Hemisphere for Wind Speed', 'Wind Speed',(40,35))"
   ]
  },
  {
   "cell_type": "code",
   "execution_count": 149,
   "metadata": {},
   "outputs": [
    {
     "ename": "SyntaxError",
     "evalue": "EOL while scanning string literal (<ipython-input-149-8c4f0e57bb27>, line 6)",
     "output_type": "error",
     "traceback": [
      "\u001b[1;36m  File \u001b[1;32m\"<ipython-input-149-8c4f0e57bb27>\"\u001b[1;36m, line \u001b[1;32m6\u001b[0m\n\u001b[1;33m    'Linear Regression on the Southern Hemisphere \\n\u001b[0m\n\u001b[1;37m                                                    ^\u001b[0m\n\u001b[1;31mSyntaxError\u001b[0m\u001b[1;31m:\u001b[0m EOL while scanning string literal\n"
     ]
    }
   ],
   "source": [
    "# Linear regression on the Southern Hemisphere\n",
    "x_values = southern_hemi_df[\"Lat\"]\n",
    "y_values = southern_hemi_df[\"Wind Speed\"]\n",
    "# Call the function.\n",
    "plot_linear_regression(x_values, y_values,\n",
    "                       'Linear Regression on the Southern Hemisphere \n",
    "                        for Wind Speed', 'Wind Speed',(-50,35))"
   ]
  }
 ],
 "metadata": {
  "kernelspec": {
   "display_name": "Python 3",
   "language": "python",
   "name": "python3"
  },
  "language_info": {
   "codemirror_mode": {
    "name": "ipython",
    "version": 3
   },
   "file_extension": ".py",
   "mimetype": "text/x-python",
   "name": "python",
   "nbconvert_exporter": "python",
   "pygments_lexer": "ipython3",
   "version": "3.7.4"
  }
 },
 "nbformat": 4,
 "nbformat_minor": 2
}
